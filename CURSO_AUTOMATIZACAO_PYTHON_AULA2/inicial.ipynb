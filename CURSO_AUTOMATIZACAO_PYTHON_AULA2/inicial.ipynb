{
 "cells": [
  {
   "cell_type": "markdown",
   "metadata": {},
   "source": [
    "# Python Insights - Analisando Dados com Python\n",
    "\n",
    "### Case - Cancelamento de Clientes\n",
    "\n",
    "Você foi contratado por uma empresa com mais de 800 mil clientes para um projeto de Dados. Recentemente a empresa percebeu que da sua base total de clientes, a maioria são clientes inativos, ou seja, que já cancelaram o serviço.\n",
    "\n",
    "Precisando melhorar seus resultados ela quer conseguir entender os principais motivos desses cancelamentos e quais as ações mais eficientes para reduzir esse número.\n",
    "\n",
    "Base de dados e arquivos: https://drive.google.com/drive/folders/1uDesZePdkhiraJmiyeZ-w5tfc8XsNYFZ?usp=drive_link"
   ]
  },
  {
   "cell_type": "code",
   "execution_count": null,
   "metadata": {},
   "outputs": [],
   "source": [
    "# Passo a Passo do projeto \n",
    "# Passo 1: Importar a base de dados\n",
    "import pandas as pd\n",
    "\n",
    "tabela = pd.read_csv(\"cancelamentos_sample.csv\")\n",
    "display(tabela)\n",
    "\n",
    "# Passo 2: Visualizar a base de dados\n",
    "    # Entender quais informações que você tem disponível\n",
    "    # Identificar as cagadas da base de dados (Digitação, tipo de digitação, valores etc...)\n",
    "tabela = tabela.drop(columns=\"CustomerID\")\n",
    "display(tabela)\n"
   ]
  },
  {
   "cell_type": "code",
   "execution_count": null,
   "metadata": {},
   "outputs": [],
   "source": [
    "# Passo 3: Tratamento de Dados = Corrigir as cagadas da base de dados\n",
    "# valores vazios na base de dados\n",
    "# formato das informações está correto\n",
    "# NaN = Not a Number (Valor vazio, não number, não texto)\n",
    "# drop -> excluir linhas ou colunas da tabela, de acordo com a informação da tabela\n",
    "# dropna -> exclui linhas com valores vazios\n",
    "\n",
    "\n",
    "tabela = tabela.dropna()\n",
    "display(tabela.info()) "
   ]
  },
  {
   "cell_type": "code",
   "execution_count": null,
   "metadata": {},
   "outputs": [],
   "source": [
    "# Passo 4: Analisar o cancelamento dos clientes\n",
    "display(tabela[\"cancelou\"].value_counts) # Apenas conta os valores \n",
    "display(tabela[\"cancelou\"].value_counts(normalize=True)) # Conta o percentual dos valores"
   ]
  },
  {
   "cell_type": "code",
   "execution_count": null,
   "metadata": {},
   "outputs": [],
   "source": [
    "# Passo 5: Analisar a causa de cancelamento dos clientes (como as informações do cliente impactam no cancelamento\n",
    "\n",
    "# Etapa 1 importar a biblioteca de gráficos (plotly)\n",
    "import plotly.express as px\n",
    "\n",
    "# variavel \"coluna\" recebendo valor das colunas do arquivo em questão de análise\n",
    "\n",
    "coluna = \"duracao_coluna\"\n",
    "\n",
    "for coluna in tabela.columns:\n",
    "# Etapa Criar o gráfico\n",
    "    grafico = px.histogram(tabela, x=coluna, color=\"cancelou\", text_auto=True)\n",
    "\n",
    "\n",
    "# Etapa Exibir o gráfico\n",
    "    grafico.show()"
   ]
  },
  {
   "cell_type": "code",
   "execution_count": null,
   "metadata": {},
   "outputs": [],
   "source": [
    "# clientes do contrato mensal, sempre cancelam\n",
    "    # podemos dar desconto para os contratos anuais e trimestrais\n",
    "\n",
    "# neste caso de analise, se o cliente liga mais de 4x para o call center, ele vai cancelar\n",
    "# se o cliente liga mais de 3x para o call center, ele vai cancelar\n",
    "    # no momento que o cliente ligar para o call center 4x, o problema do cliente deve ser resolvido\n",
    "    \n",
    "# se o cliente atrasar mais de 20 dias o pagamento, ele cancela\n",
    "    # podemos ligar um alerta com 10 dias de atraso de pagamento\n",
    "\n",
    "# criar filtros na tabela\n",
    "# se eu nao tivesse clientes de contrato mensal como seria o cancelamento\n",
    "tabela = tabela[tabela[\"duracao_contrato\"]!=\"Monthly\"]\n",
    "# se eu nao tivesse clientes com mais de 3 ligações pro call center\n",
    "tabela = [tabela[\"ligacoes_callcenter\"]<=4]\n",
    "# se eu não tiver cliente com mais de 20 dias de atraso no pagamento\n",
    "tabela = tabela[tabela[\"dias_atraso\"]<=20]\n",
    "\n",
    "display(tabela[\"cancelou\"].value_counts(normalize=True))\n",
    "# display(tabela[\"cancelou\"].value_counts(normalize=True).map(\"{:.1%}\".format)) !!!comando após \"True\" formata numero de exibição\n"
   ]
  }
 ],
 "metadata": {
  "kernelspec": {
   "display_name": "base",
   "language": "python",
   "name": "python3"
  },
  "language_info": {
   "codemirror_mode": {
    "name": "ipython",
    "version": 3
   },
   "file_extension": ".py",
   "mimetype": "text/x-python",
   "name": "python",
   "nbconvert_exporter": "python",
   "pygments_lexer": "ipython3",
   "version": "3.12.2"
  },
  "orig_nbformat": 4
 },
 "nbformat": 4,
 "nbformat_minor": 2
}
